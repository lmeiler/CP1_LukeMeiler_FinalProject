{
 "cells": [
  {
   "cell_type": "code",
   "execution_count": 10,
   "id": "0c7bbf3c-7efc-4c19-9654-0a4457342357",
   "metadata": {},
   "outputs": [],
   "source": [
    "import matplotlib.pyplot as plt\n",
    "\n",
    "import numpy as np\n",
    "import math"
   ]
  },
  {
   "cell_type": "code",
   "execution_count": 284,
   "id": "8a68205c-84be-43e4-9dff-58e1b80b5e01",
   "metadata": {},
   "outputs": [
    {
     "data": {
      "text/plain": [
       "numpy.ndarray"
      ]
     },
     "execution_count": 284,
     "metadata": {},
     "output_type": "execute_result"
    }
   ],
   "source": [
    "data = np.genfromtxt(fname='MagnetTest3.txt', usecols=(0, 2), skip_header=1)\n",
    "type(data)"
   ]
  },
  {
   "cell_type": "code",
   "execution_count": 293,
   "id": "b6e7829d-2961-418f-8122-18ac86643c3e",
   "metadata": {},
   "outputs": [
    {
     "data": {
      "text/plain": [
       "numpy.ndarray"
      ]
     },
     "execution_count": 293,
     "metadata": {},
     "output_type": "execute_result"
    }
   ],
   "source": [
    "dataTop = np.genfromtxt(fname='MagnetTestTop.txt', usecols=(0, 2), skip_header=1)\n",
    "type(dataTop)"
   ]
  },
  {
   "cell_type": "code",
   "execution_count": 332,
   "id": "f4cb3105-2d6b-426d-b434-0262ad4daf8a",
   "metadata": {},
   "outputs": [
    {
     "data": {
      "text/plain": [
       "numpy.ndarray"
      ]
     },
     "execution_count": 332,
     "metadata": {},
     "output_type": "execute_result"
    }
   ],
   "source": [
    "data20 = np.genfromtxt(fname='MagnetTest20.txt', usecols=(0, 2), skip_header=1)\n",
    "type(dataTop)"
   ]
  },
  {
   "cell_type": "code",
   "execution_count": 315,
   "id": "1953c01b-1ad4-4096-9640-44eb401baca3",
   "metadata": {},
   "outputs": [
    {
     "data": {
      "text/plain": [
       "numpy.ndarray"
      ]
     },
     "execution_count": 315,
     "metadata": {},
     "output_type": "execute_result"
    }
   ],
   "source": [
    "dataLong = np.genfromtxt(fname='MagnetTestLong.txt', usecols=(0, 2), skip_header=1)\n",
    "type(dataLong)"
   ]
  },
  {
   "cell_type": "code",
   "execution_count": 316,
   "id": "c4bc8bb7-df6a-46bd-8d13-8f0131715de9",
   "metadata": {},
   "outputs": [],
   "source": [
    "def get_vals(data):\n",
    "    \"\"\"This function takes the data set generated from the\n",
    "    numpy genfromtxt function of the three desired columns\n",
    "    and returns a list of three lists: the times, CH4 levels,\n",
    "    and uncertainties.\n",
    "\n",
    "    Parameters:\n",
    "\n",
    "    data: numpy.ndarry\n",
    "\n",
    "        The set of data that you wish to rearrange into a list of its\n",
    "        columns in each list.\n",
    "\n",
    "    Returns:\n",
    "\n",
    "    master_list: list\n",
    "\n",
    "        A list containing a list for each column in the inputed data set\n",
    "        with the elements of said column.\n",
    "\n",
    "    \"\"\"\n",
    "    time_list = []\n",
    "    inc_list = []\n",
    "    master_list = []\n",
    "    for i in data:\n",
    "        unit = np.power(i[1], -6)\n",
    "        time_list.append(i[0])\n",
    "        inc_list.append(unit)\n",
    "    master_list.append(time_list)\n",
    "    master_list.append(inc_list)\n",
    "    return master_list"
   ]
  },
  {
   "cell_type": "code",
   "execution_count": 317,
   "id": "5479b330-59ef-44c2-bd03-452920d0e8e7",
   "metadata": {},
   "outputs": [],
   "source": [
    "data_list = get_vals(data)\n",
    "time = data_list[0]\n",
    "bfield = data_list[1]"
   ]
  },
  {
   "cell_type": "code",
   "execution_count": 318,
   "id": "838617a5-8504-42dc-8267-22f9be20afa8",
   "metadata": {},
   "outputs": [],
   "source": [
    "data_list_long = get_vals(dataLong)\n",
    "timeLong = data_list_long[0]\n",
    "bfieldLong = data_list_long[1]"
   ]
  },
  {
   "cell_type": "code",
   "execution_count": 333,
   "id": "169f084e-d5e9-4fe6-b3a6-71969089de25",
   "metadata": {},
   "outputs": [],
   "source": [
    "data_list_20 = get_vals(data20)\n",
    "time20 = data_list_20[0]\n",
    "bfield20 = data_list_20[1]"
   ]
  },
  {
   "cell_type": "code",
   "execution_count": 319,
   "id": "eb47a203-7ffb-4125-91a5-193b968785e5",
   "metadata": {},
   "outputs": [
    {
     "data": {
      "text/plain": [
       "[<matplotlib.lines.Line2D at 0x7f2cfff92b50>]"
      ]
     },
     "execution_count": 319,
     "metadata": {},
     "output_type": "execute_result"
    },
    {
     "data": {
      "image/png": "[encoded data removed]",
      "text/plain": [
       "<Figure size 432x288 with 1 Axes>"
      ]
     },
     "metadata": {
      "needs_background": "light"
     },
     "output_type": "display_data"
    }
   ],
   "source": [
    "plt.plot(time, bfield)"
   ]
  },
  {
   "cell_type": "code",
   "execution_count": 288,
   "id": "2906a82b-9e18-4548-a108-710d6062d5f4",
   "metadata": {},
   "outputs": [],
   "source": [
    "def getCurrent(bfield):\n",
    "    current = []\n",
    "    coeff = (2*math.pi*0.05)/(np.power(4*math.pi, -7))\n",
    "    for i in bfield:\n",
    "        elem = coeff*i\n",
    "        current.append(elem)\n",
    "    return current"
   ]
  },
  {
   "cell_type": "code",
   "execution_count": 289,
   "id": "b4f1497d-d23f-4ff1-a396-e5496819e32c",
   "metadata": {},
   "outputs": [],
   "source": [
    "current = getCurrent(bfield)"
   ]
  },
  {
   "cell_type": "code",
   "execution_count": 290,
   "id": "20377d9b-9bd5-4a7c-992b-3dc55079ab05",
   "metadata": {},
   "outputs": [
    {
     "data": {
      "text/plain": [
       "array([ 5.62802730e-09+0.00000000e+00j, -3.01183026e-12-7.16616885e-12j,\n",
       "       -8.04311622e-12-5.88607127e-12j, ...,\n",
       "       -3.80077202e-12+1.31400836e-11j, -8.04311622e-12+5.88607127e-12j,\n",
       "       -3.01183026e-12+7.16616885e-12j])"
      ]
     },
     "execution_count": 290,
     "metadata": {},
     "output_type": "execute_result"
    }
   ],
   "source": [
    "component = bfield\n",
    "#component = current\n",
    "\n",
    "y = np.fft.fft(component)\n",
    "y_length = len(y)\n",
    "sample_rate = 100 # Number of Points Per Second\n",
    "sample_spacing = 1/sample_rate\n",
    "\n",
    "freq = np.fft.fftfreq(y_length, sample_spacing)\n",
    "\n",
    "y"
   ]
  },
  {
   "cell_type": "code",
   "execution_count": 329,
   "id": "a604f004-be50-4984-9346-56851c9e9c36",
   "metadata": {},
   "outputs": [
    {
     "name": "stderr",
     "output_type": "stream",
     "text": [
      "/usr/lib/python3/dist-packages/numpy/core/_asarray.py:83: ComplexWarning: Casting complex values to real discards the imaginary part\n",
      "  return array(a, dtype, copy=False, order=order)\n"
     ]
    },
    {
     "data": {
      "image/png": "[encoded data removed]",
      "text/plain": [
       "<Figure size 432x288 with 1 Axes>"
      ]
     },
     "metadata": {
      "needs_background": "light"
     },
     "output_type": "display_data"
    }
   ],
   "source": [
    "plt.plot(freq, y)\n",
    "plt.xlim(21, 22)\n",
    "plt.ylim(0,0.00000000005)\n",
    "plt.xlabel('Frequency (Hz)')\n",
    "plt.ylabel('Fourier Component')\n",
    "plt.show()"
   ]
  },
  {
   "cell_type": "code",
   "execution_count": 297,
   "id": "6b6356ff-dd2a-4156-b89c-4b04359c4d1d",
   "metadata": {},
   "outputs": [
    {
     "name": "stdout",
     "output_type": "stream",
     "text": [
      "[   0  836 1229 1620  445]\n",
      "[0.0, 40.484261501210646, -40.484261501210646, -21.549636803874087, 21.549636803874087]\n"
     ]
    }
   ],
   "source": [
    "n = 5\n",
    "indices = (-y).argsort()[:n]\n",
    "print(indices)\n",
    "\n",
    "\n",
    "def getFreq(frequency_list, index_list):\n",
    "    \"\"\" This function takes two lists: one of the set that you\n",
    "    want to find the values from, and one containing the\n",
    "    indices at which you want the values from the first list.\n",
    "\n",
    "    Parameters:\n",
    "\n",
    "    frequency_list: list\n",
    "\n",
    "        The list that the desired values are contained in\n",
    "\n",
    "    index_list: list\n",
    "\n",
    "        The list containing the indices for the desired values of\n",
    "        the frequency list.\n",
    "\n",
    "\n",
    "    Returns:\n",
    "\n",
    "    freq_return: list\n",
    "\n",
    "        A list containing the values from frequency_list at the\n",
    "        indices contained in index_list\n",
    "    \"\"\"\n",
    "    freq_return = []\n",
    "    for i in index_list:\n",
    "        freq_return.append(frequency_list[i])\n",
    "    return freq_return\n",
    "\n",
    "\n",
    "frequencies = getFreq(freq, indices)\n",
    "print(frequencies)"
   ]
  },
  {
   "cell_type": "code",
   "execution_count": 305,
   "id": "9728691f-81d1-4a56-bf9f-7f170ffe331e",
   "metadata": {},
   "outputs": [
    {
     "data": {
      "text/plain": [
       "[<matplotlib.lines.Line2D at 0x7f2d02175610>]"
      ]
     },
     "execution_count": 305,
     "metadata": {},
     "output_type": "execute_result"
    },
    {
     "data": {
      "image/png": "[encoded data removed]",
      "text/plain": [
       "<Figure size 432x288 with 1 Axes>"
      ]
     },
     "metadata": {
      "needs_background": "light"
     },
     "output_type": "display_data"
    }
   ],
   "source": [
    "plt.plot(timeLong, bfieldLong)"
   ]
  },
  {
   "cell_type": "code",
   "execution_count": 320,
   "id": "102d5c5e-360f-4bf8-a64f-573642c9e3aa",
   "metadata": {},
   "outputs": [
    {
     "data": {
      "text/plain": [
       "array([2.11653385e-08-1.73271720e-25j, 2.96713599e-11+1.35435980e-10j,\n",
       "       6.22421393e-11+1.16305555e-10j, ...,\n",
       "       6.62396387e-11-2.68908853e-11j, 6.22421393e-11-1.16305555e-10j,\n",
       "       2.96713599e-11-1.35435980e-10j])"
      ]
     },
     "execution_count": 320,
     "metadata": {},
     "output_type": "execute_result"
    }
   ],
   "source": [
    "componentLong = bfieldLong\n",
    "#componentLong = currentLong\n",
    "\n",
    "yLong = np.fft.fft(componentLong)\n",
    "y_length_long = len(yLong)\n",
    "sample_rate_long = 100 # Number of Points Per Second\n",
    "sample_spacing_long = 1/sample_rate_long\n",
    "\n",
    "freqLong = np.fft.fftfreq(y_length_long, sample_spacing_long)\n",
    "\n",
    "yLong"
   ]
  },
  {
   "cell_type": "code",
   "execution_count": 330,
   "id": "68adc292-8593-4cf0-b7cb-83c285e1db15",
   "metadata": {},
   "outputs": [
    {
     "name": "stderr",
     "output_type": "stream",
     "text": [
      "/usr/lib/python3/dist-packages/numpy/core/_asarray.py:83: ComplexWarning: Casting complex values to real discards the imaginary part\n",
      "  return array(a, dtype, copy=False, order=order)\n"
     ]
    },
    {
     "data": {
      "image/png": "[encoded data removed]",
      "text/plain": [
       "<Figure size 432x288 with 1 Axes>"
      ]
     },
     "metadata": {
      "needs_background": "light"
     },
     "output_type": "display_data"
    }
   ],
   "source": [
    "plt.plot(freqLong, yLong)\n",
    "plt.xlim(21, 22)\n",
    "plt.ylim(0,0.0000000001)\n",
    "plt.xlabel('Frequency (Hz)')\n",
    "plt.ylabel('Fourier Component')\n",
    "plt.show()"
   ]
  },
  {
   "cell_type": "code",
   "execution_count": 334,
   "id": "05bc5705-438c-4a11-98e7-7e1d38d40d48",
   "metadata": {},
   "outputs": [
    {
     "data": {
      "text/plain": [
       "[<matplotlib.lines.Line2D at 0x7f2d023662e0>]"
      ]
     },
     "execution_count": 334,
     "metadata": {},
     "output_type": "execute_result"
    },
    {
     "data": {
      "image/png": "[encoded data removed]",
      "text/plain": [
       "<Figure size 432x288 with 1 Axes>"
      ]
     },
     "metadata": {
      "needs_background": "light"
     },
     "output_type": "display_data"
    }
   ],
   "source": [
    "plt.plot(time20, bfield20)"
   ]
  },
  {
   "cell_type": "code",
   "execution_count": 335,
   "id": "a2387214-3372-4176-bfd0-af6c136e12dc",
   "metadata": {},
   "outputs": [
    {
     "data": {
      "text/plain": [
       "array([ 9.10964243e-01+3.46944695e-18j,  2.66012905e-02+3.51498474e-02j,\n",
       "       -7.22989442e-04-8.71113792e-03j, ...,\n",
       "        3.65347742e-03-2.05376472e-02j, -7.22989442e-04+8.71113792e-03j,\n",
       "        2.66012905e-02-3.51498474e-02j])"
      ]
     },
     "execution_count": 335,
     "metadata": {},
     "output_type": "execute_result"
    }
   ],
   "source": [
    "component20 = bfield20\n",
    "#component20 = current20\n",
    "\n",
    "y20 = np.fft.fft(component20)\n",
    "y_length_20 = len(y20)\n",
    "sample_rate_20 = 100 # Number of Points Per Second\n",
    "sample_spacing_20 = 1/sample_rate_20\n",
    "\n",
    "freq20 = np.fft.fftfreq(y_length_20, sample_spacing_20)\n",
    "\n",
    "y20"
   ]
  },
  {
   "cell_type": "code",
   "execution_count": 345,
   "id": "8ae173d0-8952-4d7b-b04c-be24d9db9747",
   "metadata": {},
   "outputs": [
    {
     "name": "stderr",
     "output_type": "stream",
     "text": [
      "/usr/lib/python3/dist-packages/numpy/core/_asarray.py:83: ComplexWarning: Casting complex values to real discards the imaginary part\n",
      "  return array(a, dtype, copy=False, order=order)\n"
     ]
    },
    {
     "data": {
      "image/png": "[encoded data removed]",
      "text/plain": [
       "<Figure size 432x288 with 1 Axes>"
      ]
     },
     "metadata": {
      "needs_background": "light"
     },
     "output_type": "display_data"
    }
   ],
   "source": [
    "plt.plot(freq20, y20)\n",
    "plt.xlim(19, 23)\n",
    "plt.ylim(0,0.02)\n",
    "plt.xlabel('Frequency (Hz)')\n",
    "plt.ylabel('Fourier Component')\n",
    "plt.show()"
   ]
  },
  {
   "cell_type": "code",
   "execution_count": null,
   "id": "1076e38c-bffc-4530-9d36-e78d9104ee7c",
   "metadata": {},
   "outputs": [],
   "source": []
  }
 ],
 "metadata": {
  "kernelspec": {
   "display_name": "Python 3 (ipykernel)",
   "language": "python",
   "name": "python3"
  },
  "language_info": {
   "codemirror_mode": {
    "name": "ipython",
    "version": 3
   },
   "file_extension": ".py",
   "mimetype": "text/x-python",
   "name": "python",
   "nbconvert_exporter": "python",
   "pygments_lexer": "ipython3",
   "version": "3.9.5"
  }
 },
 "nbformat": 4,
 "nbformat_minor": 5
}
